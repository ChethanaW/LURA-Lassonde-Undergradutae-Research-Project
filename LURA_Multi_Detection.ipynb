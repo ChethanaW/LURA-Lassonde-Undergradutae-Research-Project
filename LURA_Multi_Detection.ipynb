{
  "nbformat": 4,
  "nbformat_minor": 0,
  "metadata": {
    "colab": {
      "name": "LURA_Multi_Detection",
      "provenance": [],
      "collapsed_sections": [],
      "toc_visible": true,
      "authorship_tag": "ABX9TyNiZmG67ZgpoTBHnSBXn8yg",
      "include_colab_link": true
    },
    "kernelspec": {
      "display_name": "Python 3",
      "name": "python3"
    },
    "language_info": {
      "name": "python"
    }
  },
  "cells": [
    {
      "cell_type": "markdown",
      "metadata": {
        "id": "view-in-github",
        "colab_type": "text"
      },
      "source": [
        "<a href=\"https://colab.research.google.com/github/ChethanaW/LURA-Lassonde-Undergradutae-Research-Project/blob/main/LURA_Multi_Detection.ipynb\" target=\"_parent\"><img src=\"https://colab.research.google.com/assets/colab-badge.svg\" alt=\"Open In Colab\"/></a>"
      ]
    },
    {
      "cell_type": "markdown",
      "metadata": {
        "id": "vWx6AJQtqCAH"
      },
      "source": [
        "# Libraries used\n"
      ]
    },
    {
      "cell_type": "code",
      "metadata": {
        "id": "7qiOcKpzDWPh"
      },
      "source": [
        "import numpy as np\n",
        "import sympy \n",
        "from numpy import random\n",
        "from scipy import signal\n",
        "import math\n",
        "import matplotlib.pyplot as plt"
      ],
      "execution_count": 2,
      "outputs": []
    },
    {
      "cell_type": "markdown",
      "metadata": {
        "id": "5QEEijuhE9fo"
      },
      "source": [
        "# FUNCTIONS"
      ]
    },
    {
      "cell_type": "markdown",
      "metadata": {
        "id": "f_fNO63DFD7p"
      },
      "source": [
        "## General functions"
      ]
    },
    {
      "cell_type": "markdown",
      "metadata": {
        "id": "FXl10nqFHTVp"
      },
      "source": [
        "### def sigma_sum"
      ]
    },
    {
      "cell_type": "code",
      "metadata": {
        "id": "MzIyDOpDDQxy"
      },
      "source": [
        "# General functions\n",
        "def sigma_sum(start, end, expression):\n",
        "    return sum(expression(i) for i in range(start, end))"
      ],
      "execution_count": 3,
      "outputs": []
    },
    {
      "cell_type": "markdown",
      "metadata": {
        "id": "j0nSTYlbHwrH"
      },
      "source": [
        "### def gs"
      ]
    },
    {
      "cell_type": "markdown",
      "metadata": {
        "id": "rjorH3IDHiLi"
      },
      "source": [
        "Gram Schmidt orthonomalization\n",
        "\n",
        "Peptides we get are not orthogonal nor orthonomal\n",
        "\n",
        "Peptides are send through a GS process to get their orthornormal basis vectors\n",
        "\n",
        "[link text](https://mlwiki.org/index.php/Gram-Schmidt_Process)"
      ]
    },
    {
      "cell_type": "code",
      "metadata": {
        "id": "xQ-ExrlNHo6u"
      },
      "source": [
        "# Ref: https://dev.artemlos.net/teaching/linear-algebra/Gram-Schmidt+example.html\n",
        "\n",
        "def gs(X):\n",
        "    Q, R = np.linalg.qr(X, mode='reduced')\n",
        "    return Q\n",
        "\n",
        "# testing\n",
        "# m = np.array([[1,1,1,1,1],[1,1,0,1,2], [1,0,0,1,1], [0,0,0,0,0]])\n",
        "# m, gs(m), np.transpose(gs(m))"
      ],
      "execution_count": 4,
      "outputs": []
    },
    {
      "cell_type": "markdown",
      "metadata": {
        "id": "cD6KV3xMrK0g"
      },
      "source": [
        "## Detecting 1 peptide at a time"
      ]
    },
    {
      "cell_type": "markdown",
      "metadata": {
        "id": "OVqV45wmFKBe"
      },
      "source": [
        "### def simulation"
      ]
    },
    {
      "cell_type": "code",
      "metadata": {
        "id": "1s4XFpuecGcF"
      },
      "source": [
        "def simulation(list_of_peptides , basis_vectors, factors_of_known_peptides, hk,nb,ts,n0, nt):\n",
        "\n",
        "  #initialization\n",
        "  error_count = 0\n",
        "  zero_count = 0\n",
        "  one_count = 0\n",
        "  other_count = 0\n",
        "  # size_nb = len(nb)\n",
        "  \n",
        "  # tb = size_nb*ts\n",
        "  binary_vector = []\n",
        "  modulated_vector = []\n",
        "  noisy_signal = []\n",
        "  out_array = []\n",
        "  results_array = []\n",
        "\n",
        "  output ={}\n",
        "\n",
        "  #for optimal h[k] is the reverse of h[k]\n",
        "  hk = np.flip(hk)\n",
        "\n",
        "  for i in range(0, nt):\n",
        "    # Generate random bit\n",
        "    x = random.choice(  list(range( len(list_of_peptides) ))  ) #  list(range( len(list_of_peptides) ))\n",
        "    binary_vector.append(x)\n",
        "\n",
        "    # modulation and adding noise\n",
        "    # Generate guassian white noise\n",
        "    a = sigma_sum(0, nb-1, lambda i: (hk[i])**2 )\n",
        "    v = (n0*a)/(2*ts) # variance\n",
        "    v2 = (n0)/(2*ts) # variance\n",
        "    noise = np.random.normal(0,math.sqrt(v2), nb)\n",
        "\n",
        "    # addition of white noise\n",
        "    y = np.add(list_of_peptides[x], noise)\n",
        "    \n",
        "    # print(\"y\",y )\n",
        "    modulated_vector = np.append(modulated_vector,list_of_peptides[x])\n",
        "    noisy_signal = np.append(noisy_signal,y)\n",
        "\n",
        "    #process of detecting the value\n",
        "    # page 48 y.sx and y.sy -> dot product with basis vectors\n",
        "    # usually in 1D out = np.dot(y,hk)\n",
        "    factor_out = []\n",
        "\n",
        "    for i in range(0, len(basis_vectors)):\n",
        "      factor_out.append(np.dot(y,basis_vectors[i]))\n",
        "\n",
        "    d_norm = {}\n",
        "\n",
        "    for i in range(0, len(factors_of_known_peptides)):\n",
        "      norm = np.linalg.norm(np.array(factor_out) - np.array(factors_of_known_peptides[i]))\n",
        "      d_norm[i] = norm\n",
        "    \n",
        "    # print(\"d_norm\",d_norm )\n",
        "    #get the key having the minimum norm\n",
        "    min_norm = min(d_norm, key=d_norm.get)\n",
        "\n",
        "    result = list_of_peptides[min_norm]\n",
        "    \n",
        "    results_array.append(result)\n",
        "    if min_norm != x:\n",
        "       error_count +=1\n",
        "\n",
        "    out_array.append(min_norm)\n",
        "  \n",
        "  prob_error = (error_count/nt)\n",
        "  prob_one = (one_count/nt)\n",
        "  prob_other = (other_count/nt)\n",
        "  prob_zero = (zero_count/nt)\n",
        "  # print(prob_error)\n",
        "  \n",
        "  # theoratical probability error\n",
        "  # theor_prob_error = ( 0.5*math.erfc( abs(ns0-z1)/math.sqrt(2*v) )*prob_zero ) + ( 0.5*math.erfc( ( (abs(z1-ns1)+abs(ns1-z2))/2 )/math.sqrt(2*v) )*prob_one ) + ( 0.5*math.erfc( abs(ns2-z2)/math.sqrt(2*v) )*prob_other )\n",
        "  \n",
        "  # other way\n",
        "  # d = ns2-ns1\n",
        "  # m = 2\n",
        "  # theor_prob_error = (m-1/m)*math.erfc(d/ (2*math.sqrt(2*v)) )\n",
        "\n",
        "  output[\"Generated numbers\"] = binary_vector\n",
        "  output[\"Modulated vector\"] = modulated_vector\n",
        "  output[\"Noisy signal(y)\"] =  noisy_signal\n",
        "  output[\"Output numbers\"] =  out_array\n",
        "  output[\"Resulting bits afer detection\"] = results_array\n",
        "  output[\"Simulated probablity error\"] = prob_error\n",
        "  # output[\"Theoratical probablity error\"] = theor_prob_error\n",
        "\n",
        "  return output"
      ],
      "execution_count": 13,
      "outputs": []
    },
    {
      "cell_type": "markdown",
      "metadata": {
        "id": "Q-bUm3XhFPg-"
      },
      "source": [
        "### def call_simulation"
      ]
    },
    {
      "cell_type": "code",
      "metadata": {
        "id": "JZzJCDvycLdS"
      },
      "source": [
        "def call_simulation(list_of_peptides , basis_vectors, factors_of_known_peptides, hk,nb,ts,n0,nt):\n",
        "  prob_error = []\n",
        "  # theo_error = []\n",
        "\n",
        "  output = {}\n",
        "\n",
        "  for n0_e in n0:\n",
        "    result = simulation(list_of_peptides , basis_vectors, factors_of_known_peptides, hk,nb,ts,n0_e,nt)\n",
        "\n",
        "    prob_error.append(result[\"Simulated probablity error\"])\n",
        "    # theo_error.append(result[\"Theoratical probablity error\"])\n",
        "  \n",
        "  # output[\"THEO\"] = theo_error\n",
        "  output[\"SIMUL\"] = prob_error\n",
        "\n",
        "  return output"
      ],
      "execution_count": 14,
      "outputs": []
    },
    {
      "cell_type": "markdown",
      "metadata": {
        "id": "L9hKLwM1rSLc"
      },
      "source": [
        "## Detecting 2 peptide at a time"
      ]
    },
    {
      "cell_type": "markdown",
      "metadata": {
        "id": "faaDTxlAraPg"
      },
      "source": [
        "### def simulation2"
      ]
    },
    {
      "cell_type": "code",
      "metadata": {
        "id": "JZJKauamrVk_"
      },
      "source": [
        "def simulation2(list_of_peptides , basis_vectors, factors_of_known_peptides, hk,nb,ts,n0, nt):\n",
        "\n",
        "  #initialization\n",
        "  error_count = 0\n",
        "  zero_count = 0\n",
        "  one_count = 0\n",
        "  other_count = 0\n",
        "  # size_nb = len(nb)\n",
        "  # tb = size_nb*ts\n",
        "  binary_vector = []\n",
        "  modulated_vector = []\n",
        "  noisy_signal = []\n",
        "  out_array = []\n",
        "  results_array = []\n",
        "\n",
        "  output ={}\n",
        "\n",
        "  #for optimal h[k] is the reverse of h[k]\n",
        "  hk = np.flip(hk)\n",
        "\n",
        "  for i in range(0, nt):\n",
        "    # Generate random bit\n",
        "    x = random.choice(  list(range( len(list_of_peptides) ))  ) #  list(range( len(list_of_peptides) ))\n",
        "    x2 = random.choice(  list(range( len(list_of_peptides) ))  ) #  list(range( len(list_of_peptides) ))\n",
        "    binary_vector.append(x)\n",
        "    binary_vector.append(x2)\n",
        "\n",
        "    # modulation and adding noise\n",
        "    # Generate guassian white noise\n",
        "    a = sigma_sum(0, nb-1, lambda i: (hk[i])**2 )\n",
        "    # v = (n0*a)/(2*ts) # variance\n",
        "    v2 = (n0)/(2*ts) # variance\n",
        "    noise = np.random.normal(0,math.sqrt(v2), nb)\n",
        "\n",
        "    # addition of white noise\n",
        "    y = np.add(list_of_peptides[x], noise)\n",
        "\n",
        "    list_of_element = [list_of_peptides[x], list_of_peptides[x2],  noise]\n",
        "    # print(list_of_element)\n",
        "    y = np.sum(list_of_element, axis=0)\n",
        "    # print(y)\n",
        "    # print(\"y\",y )\n",
        "    modulated_vector = np.append(modulated_vector,list_of_peptides[x])\n",
        "    noisy_signal = np.append(noisy_signal,y)\n",
        "\n",
        "    #process of detecting the value\n",
        "    # page 48 y.sx and y.sy -> dot product with basis vectors\n",
        "    # usually in 1D out = np.dot(y,hk)\n",
        "    factor_out = []\n",
        "\n",
        "    for i in range(0, len(basis_vectors)):\n",
        "      factor_out.append(np.dot(y,basis_vectors[i]))\n",
        "\n",
        "    d_norm = {}\n",
        "\n",
        "    for i in range(0, len(factors_of_known_peptides)):\n",
        "      norm = np.linalg.norm(np.array(factor_out) - np.array(factors_of_known_peptides[i]))\n",
        "      d_norm[i] = norm\n",
        "    \n",
        "    # print(\"d_norm\",d_norm )\n",
        "    #get the key having the minimum norm\n",
        "    min_norm = min(d_norm, key=d_norm.get)\n",
        "\n",
        "    result = list_of_peptides[min_norm]\n",
        "    \n",
        "    ##################\n",
        "    y2 = np.subtract(y, result)\n",
        "\n",
        "    factor_out = []\n",
        "\n",
        "    for i in range(0, len(basis_vectors)):\n",
        "      factor_out.append(np.dot(y2,basis_vectors[i]))\n",
        "\n",
        "    d_norm = {}\n",
        "\n",
        "    for i in range(0, len(factors_of_known_peptides)):\n",
        "      norm = np.linalg.norm(np.array(factor_out) - np.array(factors_of_known_peptides[i]))\n",
        "      d_norm[i] = norm\n",
        "    \n",
        "    # print(\"d_norm\",d_norm )\n",
        "    #get the key having the minimum norm\n",
        "    min_norm2 = min(d_norm, key=d_norm.get)\n",
        "\n",
        "    result2 = list_of_peptides[min_norm2]\n",
        "\n",
        "    ##################\n",
        "\n",
        "\n",
        "    results_array.append(result)\n",
        "    results_array.append(result2)\n",
        "    \n",
        "    # if min_norm != x or min_norm2 != x2:\n",
        "    #    error_count +=1\n",
        "\n",
        "    if not np.array_equal([min_norm,min_norm2], [x,x2]):\n",
        "      error_count +=1\n",
        "\n",
        "    out_array.append(min_norm)\n",
        "    out_array.append(min_norm2)\n",
        "  \n",
        "  prob_error = (error_count/nt)\n",
        "  prob_one = (one_count/nt)\n",
        "  prob_other = (other_count/nt)\n",
        "  prob_zero = (zero_count/nt)\n",
        "  # print(prob_error)\n",
        "  \n",
        "  # theoratical probability error\n",
        "  # theor_prob_error = ( 0.5*math.erfc( abs(ns0-z1)/math.sqrt(2*v) )*prob_zero ) + ( 0.5*math.erfc( ( (abs(z1-ns1)+abs(ns1-z2))/2 )/math.sqrt(2*v) )*prob_one ) + ( 0.5*math.erfc( abs(ns2-z2)/math.sqrt(2*v) )*prob_other )\n",
        "  \n",
        "  # other way\n",
        "  # d = ns2-ns1\n",
        "  # m = 2\n",
        "  # theor_prob_error = (m-1/m)*math.erfc(d/ (2*math.sqrt(2*v)) )\n",
        "\n",
        "  output[\"Generated numbers\"] = binary_vector\n",
        "  output[\"Modulated vector\"] = modulated_vector\n",
        "  output[\"Noisy signal(y)\"] =  noisy_signal\n",
        "  output[\"Output numbers\"] =  out_array\n",
        "  output[\"Resulting bits afer detection\"] = results_array\n",
        "  output[\"Simulated probablity error\"] = prob_error\n",
        "  # output[\"Theoratical probablity error\"] = theor_prob_error\n",
        "\n",
        "  return output"
      ],
      "execution_count": 5,
      "outputs": []
    },
    {
      "cell_type": "markdown",
      "metadata": {
        "id": "1ZXACtgEALrH"
      },
      "source": [
        "### def call_simulation2"
      ]
    },
    {
      "cell_type": "code",
      "metadata": {
        "id": "SLliMyI-AIY9"
      },
      "source": [
        "def call_simulation2(list_of_peptides , basis_vectors, factors_of_known_peptides, hk,nb,ts,n0,nt):\n",
        "  prob_error = []\n",
        "  # theo_error = []\n",
        "\n",
        "  output = {}\n",
        "\n",
        "  for n0_e in n0:\n",
        "    result = simulation2(list_of_peptides , basis_vectors, factors_of_known_peptides, hk,nb,ts,n0_e,nt)\n",
        "\n",
        "    prob_error.append(result[\"Simulated probablity error\"])\n",
        "    # theo_error.append(result[\"Theoratical probablity error\"])\n",
        "  \n",
        "  # output[\"THEO\"] = theo_error\n",
        "  output[\"SIMUL\"] = prob_error\n",
        "\n",
        "  return output"
      ],
      "execution_count": 6,
      "outputs": []
    },
    {
      "cell_type": "markdown",
      "metadata": {
        "id": "MivKbSB7yE_f"
      },
      "source": [
        "# Approach 1 (with dummy data)"
      ]
    },
    {
      "cell_type": "code",
      "metadata": {
        "id": "KRpZxtpDP0Bt",
        "colab": {
          "base_uri": "https://localhost:8080/"
        },
        "outputId": "0a2c894a-cd9e-4820-cbf5-e9ae715c506d"
      },
      "source": [
        "p1 = [10,20,30,50,11]\n",
        "p2 = [8,11,15,13,1]\n",
        "p3 = [9,10,50,100,13]\n",
        "p4 = [14,27,33,51,98]\n",
        "# p5 = [0,0,0,0,0]\n",
        "\n",
        "new = np.c_[p1,p2,p3,p4]\n",
        "new[2][2]\n",
        "# np.column_stack((p1,p4))\n",
        "\n",
        "new3 = np.column_stack((p1,p2,p3,p4))\n",
        "new3"
      ],
      "execution_count": 7,
      "outputs": [
        {
          "output_type": "execute_result",
          "data": {
            "text/plain": [
              "array([[ 10,   8,   9,  14],\n",
              "       [ 20,  11,  10,  27],\n",
              "       [ 30,  15,  50,  33],\n",
              "       [ 50,  13, 100,  51],\n",
              "       [ 11,   1,  13,  98]])"
            ]
          },
          "metadata": {
            "tags": []
          },
          "execution_count": 7
        }
      ]
    },
    {
      "cell_type": "code",
      "metadata": {
        "id": "_0vFt44m6z_D",
        "colab": {
          "base_uri": "https://localhost:8080/"
        },
        "outputId": "50ace85e-9c36-4f4c-facc-04f84300c0a4"
      },
      "source": [
        "# basis = gs(new2) # numpy qr raw mode has a the output transposed\n",
        "# new2, basis, basis[2]\n",
        "\n",
        "basis3 = np.transpose(gs(new3)) # numpy qr raw mode has a the output transposed\n",
        "new3, basis3, basis3[2]\n",
        "np.sum(basis3[3,:] * basis3[3,:])"
      ],
      "execution_count": 8,
      "outputs": [
        {
          "output_type": "execute_result",
          "data": {
            "text/plain": [
              "0.9999999999999998"
            ]
          },
          "metadata": {
            "tags": []
          },
          "execution_count": 8
        }
      ]
    },
    {
      "cell_type": "code",
      "metadata": {
        "id": "VhE0-wjb7Uw4",
        "colab": {
          "base_uri": "https://localhost:8080/"
        },
        "outputId": "7295a5a9-0b5f-482d-a5e7-46fea4a7ab27"
      },
      "source": [
        "num_of_basis = len(basis3)\n",
        "num_of_peptides = len(np.transpose(new3))\n",
        "\n",
        "signal_factors = {}\n",
        "tmp_store_factors = []\n",
        "\n",
        "for i in range(0,num_of_peptides):\n",
        "  # print(np.transpose(new3)[i])\n",
        "  tmp_store_factors = []\n",
        "  for j in range(0,num_of_basis):\n",
        "    # print(basis3[j])\n",
        "    cur_signal = np.transpose(new3)[i]\n",
        "    cur_basis = basis3[j]\n",
        "    tmp_store_factors.append(np.dot(cur_signal, cur_basis))\n",
        "  signal_factors[i] = tmp_store_factors\n",
        "\n",
        "signal_factors"
      ],
      "execution_count": 9,
      "outputs": [
        {
          "output_type": "execute_result",
          "data": {
            "text/plain": [
              "{0: [-63.411355449950754, 1.0658141036401503e-14, 8.881784197001252e-16, 0.0],\n",
              " 1: [-22.251535075822062,\n",
              "  -9.212447382181363,\n",
              "  -1.7763568394002505e-15,\n",
              "  1.7763568394002505e-15],\n",
              " 2: [-109.3337297524269, 20.390165041257433, -21.917497758949615, 0.0],\n",
              " 3: [-83.54970434564514,\n",
              "  21.070315928982183,\n",
              "  52.215267804373795,\n",
              "  63.78130210748046]}"
            ]
          },
          "metadata": {
            "tags": []
          },
          "execution_count": 9
        }
      ]
    },
    {
      "cell_type": "markdown",
      "metadata": {
        "id": "pxQ0n6WpYD8S"
      },
      "source": [
        "Euclidean distance"
      ]
    },
    {
      "cell_type": "code",
      "metadata": {
        "id": "tJo9Vh5SYMZe"
      },
      "source": [
        "np.linalg.norm(np.array((1,2,3)) - np.array((3,4,5)))"
      ],
      "execution_count": null,
      "outputs": []
    },
    {
      "cell_type": "markdown",
      "metadata": {
        "id": "aiXTHtcp1u_L"
      },
      "source": [
        "## With detecting 1 peptide at a time"
      ]
    },
    {
      "cell_type": "code",
      "metadata": {
        "colab": {
          "base_uri": "https://localhost:8080/",
          "height": 295
        },
        "id": "8XacGOa4zrv3",
        "outputId": "a63ff093-acc0-4322-ef79-5f673b054027"
      },
      "source": [
        "# takes ~ 1m 52 mins to execute\n",
        "basis_vectors = basis3\n",
        "factors_of_known_peptides = signal_factors\n",
        "list_of_peptides = ([p1, p2, p3, p4])\n",
        "\n",
        "hk=[1,4,7,10,12]\n",
        "nb=5\n",
        "ts=10e-4\n",
        "n0=np.arange(0.001 ,0.1, 0.0001)\n",
        "# nt=5\n",
        "# n0=np.arange(0.001 ,0.2, 0.0001)\n",
        "\n",
        "result = call_simulation(list_of_peptides , basis_vectors, factors_of_known_peptides,  hk, nb, ts, n0, 100)\n",
        "result1 = call_simulation(list_of_peptides , basis_vectors, factors_of_known_peptides,  hk, nb, ts, n0, 1000)\n",
        "# result1 = get_simul_prob_trial5(sx,sy,alpha, bita,hk,nb,ts,n0,50000)\n",
        "# result2 = get_simul_prob_trial5(sx,sy,alpha, bita,hk,nb,ts,n0,1000)\n",
        "\n",
        "# plt.plot(n0, result1[\"THEO\"], 'b', label = \"Thoe 1000 nt\")\n",
        "plt.plot(n0, result1[\"SIMUL\"], 'r', label = \"Simul 1000 nt\")\n",
        "# plt.plot(n0, result2[\"THEO\"], 'g', label = \"Thoe 100 nt\")\n",
        "plt.plot(n0, result[\"SIMUL\"], 'y', label = \"Simul 100 nt\")\n",
        "# plt.plot(n0, get_data(s0, s1,s2,hk,nb,ts,n0,10000), 'g', label = \"nt=10000\")\n",
        "plt.title('Simul Prob Error Vs N0')\n",
        "plt.ylabel('Simul Prob Error')\n",
        "plt.xlabel('N0')\n",
        "plt.legend()\n",
        "plt.grid(True)"
      ],
      "execution_count": null,
      "outputs": [
        {
          "output_type": "display_data",
          "data": {
            "image/png": "[encoded data removed]",
            "text/plain": [
              "<Figure size 432x288 with 1 Axes>"
            ]
          },
          "metadata": {
            "tags": []
          }
        }
      ]
    },
    {
      "cell_type": "code",
      "metadata": {
        "colab": {
          "background_save": true
        },
        "id": "gKqUud5k8-py",
        "outputId": "7c165a31-da30-4cd3-fe51-f1c986127f4c"
      },
      "source": [
        "basis_vectors = basis3\n",
        "factors_of_known_peptides = signal_factors\n",
        "list_of_peptides = ([p1, p2, p3, p4])\n",
        "\n",
        "hk=[1,4,7,10,12]\n",
        "nb=5\n",
        "ts=10e-4\n",
        "n0=np.arange(0.001 ,0.2, 0.0001)\n",
        "# nt=5\n",
        "# n0=np.arange(0.001 ,0.2, 0.0001)\n",
        "\n",
        "result = call_simulation(list_of_peptides , basis_vectors, factors_of_known_peptides,  hk, nb, ts, n0, 100)\n",
        "result1 = call_simulation(list_of_peptides , basis_vectors, factors_of_known_peptides,  hk, nb, ts, n0, 1000)\n",
        "result2 = call_simulation(list_of_peptides , basis_vectors, factors_of_known_peptides,  hk, nb, ts, n0, 10000)\n",
        "# result1 = get_simul_prob_trial5(sx,sy,alpha, bita,hk,nb,ts,n0,50000)\n",
        "# result2 = get_simul_prob_trial5(sx,sy,alpha, bita,hk,nb,ts,n0,1000)\n",
        "\n",
        "# plt.plot(n0, result1[\"THEO\"], 'b', label = \"Thoe 1000 nt\")\n",
        "plt.semilogy(n0, result1[\"SIMUL\"], 'r', label = \"Simul 1000 nt\")\n",
        "# plt.plot(n0, result2[\"THEO\"], 'g', label = \"Thoe 100 nt\")\n",
        "plt.semilogy(n0, result[\"SIMUL\"], 'y', label = \"Simul 100 nt\")\n",
        "plt.semilogy(n0, result2[\"SIMUL\"], 'g', label = \"Simul 10000 nt\")\n",
        "# plt.plot(n0, get_data(s0, s1,s2,hk,nb,ts,n0,10000), 'g', label = \"nt=10000\")\n",
        "plt.title('Simul Prob Error Vs N0')\n",
        "plt.ylabel('Simul Prob Error')\n",
        "plt.xlabel('N0')\n",
        "plt.legend()\n",
        "plt.grid(True)"
      ],
      "execution_count": null,
      "outputs": [
        {
          "output_type": "display_data",
          "data": {
            "image/png": "[encoded data removed]",
            "text/plain": [
              "<Figure size 432x288 with 1 Axes>"
            ]
          },
          "metadata": {
            "tags": []
          }
        }
      ]
    },
    {
      "cell_type": "code",
      "metadata": {
        "colab": {
          "base_uri": "https://localhost:8080/",
          "height": 295
        },
        "id": "SSUS0PjLIUXP",
        "outputId": "571536c9-54da-4f00-e9f5-e625aa1aa117"
      },
      "source": [
        "basis_vectors = basis3\n",
        "factors_of_known_peptides = signal_factors\n",
        "list_of_peptides = ([p1, p2, p3, p4])\n",
        "\n",
        "hk=[1,4,7,10,12]\n",
        "nb=5 # 5d space\n",
        "ts=10e-4\n",
        "n0=np.arange(0.001 ,10, 0.0001)\n",
        "# nt=5\n",
        "# n0=np.arange(0.001 ,0.2, 0.0001)\n",
        "\n",
        "result = call_simulation(list_of_peptides , basis_vectors, factors_of_known_peptides,  hk, nb, ts, n0, 1000)\n",
        "# result1 = call_simulation(list_of_peptides , basis_vectors, factors_of_known_peptides,  hk, nb, ts, n0, 1000)\n",
        "# result2 = call_simulation(list_of_peptides , basis_vectors, factors_of_known_peptides,  hk, nb, ts, n0, 10000)\n",
        "# result1 = get_simul_prob_trial5(sx,sy,alpha, bita,hk,nb,ts,n0,50000)\n",
        "# result2 = get_simul_prob_trial5(sx,sy,alpha, bita,hk,nb,ts,n0,1000)\n",
        "\n",
        "# plt.plot(n0, result1[\"THEO\"], 'b', label = \"Thoe 1000 nt\")\n",
        "# plt.plot(n0, result1[\"SIMUL\"], 'r', label = \"Simul 1000 nt\")\n",
        "# plt.plot(n0, result2[\"THEO\"], 'g', label = \"Thoe 100 nt\")\n",
        "plt.plot(n0, result[\"SIMUL\"], 'y', label = \"Simul 100 nt\")\n",
        "# plt.plot(n0, result2[\"SIMUL\"], 'r', label = \"Simul 10000 nt\")\n",
        "# plt.plot(n0, get_data(s0, s1,s2,hk,nb,ts,n0,10000), 'g', label = \"nt=10000\")\n",
        "plt.title('Simul Prob Error Vs N0')\n",
        "plt.ylabel('Simul Prob Error')\n",
        "plt.xlabel('N0')\n",
        "plt.legend()\n",
        "plt.grid(True)"
      ],
      "execution_count": null,
      "outputs": [
        {
          "output_type": "display_data",
          "data": {
            "image/png": "[encoded data removed]",
            "text/plain": [
              "<Figure size 432x288 with 1 Axes>"
            ]
          },
          "metadata": {
            "tags": []
          }
        }
      ]
    },
    {
      "cell_type": "code",
      "metadata": {
        "colab": {
          "base_uri": "https://localhost:8080/",
          "height": 295
        },
        "id": "6CB1YE6KrOz-",
        "outputId": "96f56e7a-d034-4986-ab8c-8cba892e4c30"
      },
      "source": [
        "# exe time: 3m\n",
        "basis_vectors = basis3\n",
        "factors_of_known_peptides = signal_factors\n",
        "list_of_peptides = ([p1, p2, p3, p4])\n",
        "\n",
        "hk=[1,4,7,10,12]\n",
        "nb=5 # 5d space\n",
        "ts=10e-4\n",
        "n0=np.arange(0.001 ,2, 0.0001)\n",
        "# nt=5\n",
        "# n0=np.arange(0.001 ,0.2, 0.0001)\n",
        "\n",
        "result = call_simulation(list_of_peptides , basis_vectors, factors_of_known_peptides,  hk, nb, ts, n0, 1000)\n",
        "# result1 = call_simulation(list_of_peptides , basis_vectors, factors_of_known_peptides,  hk, nb, ts, n0, 1000)\n",
        "# result2 = call_simulation(list_of_peptides , basis_vectors, factors_of_known_peptides,  hk, nb, ts, n0, 10000)\n",
        "# result1 = get_simul_prob_trial5(sx,sy,alpha, bita,hk,nb,ts,n0,50000)\n",
        "# result2 = get_simul_prob_trial5(sx,sy,alpha, bita,hk,nb,ts,n0,1000)\n",
        "\n",
        "# plt.plot(n0, result1[\"THEO\"], 'b', label = \"Thoe 1000 nt\")\n",
        "# plt.plot(n0, result1[\"SIMUL\"], 'r', label = \"Simul 1000 nt\")\n",
        "# plt.plot(n0, result2[\"THEO\"], 'g', label = \"Thoe 100 nt\")\n",
        "plt.semilogy(n0, result[\"SIMUL\"], 'y', label = \"Simul 100 nt\")\n",
        "# plt.plot(n0, result2[\"SIMUL\"], 'r', label = \"Simul 10000 nt\")\n",
        "# plt.plot(n0, get_data(s0, s1,s2,hk,nb,ts,n0,10000), 'g', label = \"nt=10000\")\n",
        "plt.title('Simul Prob Error Vs N0')\n",
        "plt.ylabel('Simul Prob Error')\n",
        "plt.xlabel('N0')\n",
        "plt.legend()\n",
        "plt.grid(True)"
      ],
      "execution_count": null,
      "outputs": [
        {
          "output_type": "display_data",
          "data": {
            "image/png": "[encoded data removed]",
            "text/plain": [
              "<Figure size 432x288 with 1 Axes>"
            ]
          },
          "metadata": {
            "tags": []
          }
        }
      ]
    },
    {
      "cell_type": "markdown",
      "metadata": {
        "id": "S6RmzfDP14Tl"
      },
      "source": [
        "## with detecting 2 peptides at a time"
      ]
    },
    {
      "cell_type": "code",
      "metadata": {
        "colab": {
          "base_uri": "https://localhost:8080/"
        },
        "id": "pUbq6cZW2AyP",
        "outputId": "da334a31-6c87-4e0f-80eb-7f082930a771"
      },
      "source": [
        "basis_vectors = basis3\n",
        "factors_of_known_peptides = signal_factors\n",
        "list_of_peptides = ([p1, p2, p3, p4])\n",
        "\n",
        "hk=np.random.randint(10, size=(5))\n",
        "nb=5\n",
        "ts=10e-4\n",
        "n0=np.arange(0.001 ,0.1, 0.0001)\n",
        "\n",
        "r = simulation2(list_of_peptides , basis_vectors, factors_of_known_peptides,  hk, nb, ts, 0.1 , 5) #10000000000\n",
        "# r[\"Generated bits\"] ,r [\"Noisy signal(y)\"], r[\"Resulting bits afer detection\"]\n",
        "r[\"Generated numbers\"], r[\"Simulated probablity error\"], r[\"Output numbers\"] "
      ],
      "execution_count": 12,
      "outputs": [
        {
          "output_type": "execute_result",
          "data": {
            "text/plain": [
              "([3, 2, 2, 3, 0, 3, 2, 1, 0, 2], 0.6, [3, 2, 3, 2, 3, 0, 2, 1, 2, 0])"
            ]
          },
          "metadata": {
            "tags": []
          },
          "execution_count": 12
        }
      ]
    },
    {
      "cell_type": "code",
      "metadata": {
        "colab": {
          "base_uri": "https://localhost:8080/",
          "height": 295
        },
        "id": "Nx0x3st3AD8o",
        "outputId": "e5291d9b-a89d-4249-e8eb-5249ed63a3e5"
      },
      "source": [
        "basis_vectors = basis3\n",
        "factors_of_known_peptides = signal_factors\n",
        "list_of_peptides = ([p1, p2, p3, p4])\n",
        "\n",
        "hk=[1,4,7,10,12]\n",
        "nb=5\n",
        "ts=10e-4\n",
        "n0=np.arange(0.001 ,10, 0.0001)\n",
        "# nt=5\n",
        "# n0=np.arange(0.001 ,0.2, 0.0001)\n",
        "\n",
        "result = call_simulation2(list_of_peptides , basis_vectors, factors_of_known_peptides,  hk, nb, ts, n0, 100)\n",
        "# result1 = call_simulation2(list_of_peptides , basis_vectors, factors_of_known_peptides,  hk, nb, ts, n0, 1000)\n",
        "# result1 = get_simul_prob_trial5(sx,sy,alpha, bita,hk,nb,ts,n0,50000)\n",
        "# result2 = get_simul_prob_trial5(sx,sy,alpha, bita,hk,nb,ts,n0,1000)\n",
        "\n",
        "# plt.plot(n0, result1[\"THEO\"], 'b', label = \"Thoe 1000 nt\")\n",
        "# plt.plot(n0, result1[\"SIMUL\"], 'r', label = \"Simul 1000 nt\")\n",
        "# plt.plot(n0, result2[\"THEO\"], 'g', label = \"Thoe 100 nt\")\n",
        "plt.semilogy(n0, result[\"SIMUL\"], 'y', label = \"Simul 100 nt\")\n",
        "# plt.plot(n0, get_data(s0, s1,s2,hk,nb,ts,n0,10000), 'g', label = \"nt=10000\")\n",
        "plt.title('Simul Prob Error Vs N0')\n",
        "plt.ylabel('Simul Prob Error')\n",
        "plt.xlabel('N0')\n",
        "plt.legend()\n",
        "plt.grid(True)"
      ],
      "execution_count": 67,
      "outputs": [
        {
          "output_type": "display_data",
          "data": {
            "image/png": "[encoded data removed]",
            "text/plain": [
              "<Figure size 432x288 with 1 Axes>"
            ]
          },
          "metadata": {
            "tags": [],
            "needs_background": "light"
          }
        }
      ]
    },
    {
      "cell_type": "markdown",
      "metadata": {
        "id": "heaXoN4H2wWo"
      },
      "source": [
        "## comparison"
      ]
    },
    {
      "cell_type": "code",
      "metadata": {
        "colab": {
          "base_uri": "https://localhost:8080/",
          "height": 295
        },
        "id": "sSVCqlby20sh",
        "outputId": "2b8527fc-42f6-4a30-dec0-aa3ba8c56984"
      },
      "source": [
        "# around 58 m\n",
        "basis_vectors = basis3\n",
        "factors_of_known_peptides = signal_factors\n",
        "list_of_peptides = ([p1, p2, p3, p4])\n",
        "\n",
        "hk=[1,4,7,10,12]\n",
        "nb=5\n",
        "ts=10e-4\n",
        "n0=np.arange(0.001 ,10, 0.0001)\n",
        "# nt=5\n",
        "# n0=np.arange(0.001 ,0.2, 0.0001)\n",
        "\n",
        "result = call_simulation2(list_of_peptides , basis_vectors, factors_of_known_peptides,  hk, nb, ts, n0, 100) # around 30 mins\n",
        "result1 = call_simulation(list_of_peptides , basis_vectors, factors_of_known_peptides,  hk, nb, ts, n0, 100)\n",
        "# result1 = get_simul_prob_trial5(sx,sy,alpha, bita,hk,nb,ts,n0,50000)\n",
        "# result2 = get_simul_prob_trial5(sx,sy,alpha, bita,hk,nb,ts,n0,1000)\n",
        "\n",
        "# plt.plot(n0, result1[\"THEO\"], 'b', label = \"Thoe 1000 nt\")\n",
        "plt.semilogy(n0, result1[\"SIMUL\"], 'r', label = \"Simul 100 nt 1 peptide\")\n",
        "# plt.plot(n0, result2[\"THEO\"], 'g', label = \"Thoe 100 nt\")\n",
        "plt.semilogy(n0, result[\"SIMUL\"], 'y', label = \"Simul 100 nt 2 peptides\")\n",
        "# plt.plot(n0, get_data(s0, s1,s2,hk,nb,ts,n0,10000), 'g', label = \"nt=10000\")\n",
        "plt.title('Simul Prob Error Vs N0')\n",
        "plt.ylabel('Simul Prob Error')\n",
        "plt.xlabel('N0')\n",
        "plt.legend()\n",
        "plt.grid(True)"
      ],
      "execution_count": 15,
      "outputs": [
        {
          "output_type": "display_data",
          "data": {
            "image/png": "[encoded data removed]",
            "text/plain": [
              "<Figure size 432x288 with 1 Axes>"
            ]
          },
          "metadata": {
            "tags": [],
            "needs_background": "light"
          }
        }
      ]
    },
    {
      "cell_type": "markdown",
      "metadata": {
        "id": "N55Lm4nhx0Wa"
      },
      "source": [
        "# Testing First Steps - Getting peptide -> Orthogonormalization -> getting factors"
      ]
    },
    {
      "cell_type": "code",
      "metadata": {
        "colab": {
          "base_uri": "https://localhost:8080/"
        },
        "id": "HEMs9rvJuND-",
        "outputId": "079cd306-3b50-4375-f416-e679fe66d5c4"
      },
      "source": [
        "# getting peptides from a dataset\n",
        "p1 = [1,2,3,4,5, 6,7, 8, 9,10]\n",
        "p2 = [1,2,3,4,5]\n",
        "p3 = [1,2,3,4,5]\n",
        "p4 = [1,2,3]\n",
        "p5 = [1,2,3,4,5, 6,7]\n",
        "\n",
        "# asuming its coming as a list of arrays\n",
        "input = ([p1, p2, p3, p4, p5])\n",
        "\n",
        "######---------- converting input peptides to identical size -----------######\n",
        "tmp = []\n",
        "num_of_peptides = len(input) # assuming I know the number of peptides we have\n",
        "max = np.max([ len(input[i]) for i in range (0, len(input)) ]) # lenght of the peptide with highest number of peaks\n",
        "\n",
        "for i in range(0,num_of_peptides): # looping through all the peptides\n",
        "  fill_number = max - len(input[i]) # check how many zeros should be added to represent the max dimension needed\n",
        "\n",
        "  if (fill_number > 0 ):  \n",
        "    input[i] = np.pad(input[i], (0, fill_number), 'constant') # add zeros to the end\n",
        "\n",
        "  tmp.append(input[i])\n",
        "\n",
        "# making sure all the vectors are linearly independent\n",
        "rref_matrix, inds = sympy.Matrix(tmp).T.rref()  # ref https://docs.sympy.org/latest/tutorial/matrices.html  rref:reduced row echelon form\n",
        "\n",
        "for x in range(0,len(tmp)):\n",
        "  if x not in inds:\n",
        "    results = np.delete(tmp, obj=x, axis=0)\n",
        "\n",
        "modified_input =  np.column_stack((results)) # stack column wise all the equally sized peptides\n",
        "modified_input\n",
        "\n",
        "######---------- getting the orthogonomal vectors from the given peptides -----------######\n",
        "def gs(X):\n",
        "    Q, R = np.linalg.qr(X, mode='reduced')\n",
        "    return Q\n",
        "\n",
        "basis3 = np.transpose(gs(modified_input)) # numpy qr raw mode has a the output transposed\n",
        "basis3\n",
        "\n",
        "# check if the basis vectors are correct \n",
        "np.sum(basis3[2,:] * basis3[3,:]), np.sum(basis3[3,:] * basis3[3,:]), sum(np.square(np.transpose(basis3)))\n",
        "\n",
        "np.transpose(modified_input), basis3\n",
        "\n",
        "######---------- getting the signal factors with all basis vectors for each peptide  -----------######\n",
        "num_of_basis = len(basis3)\n",
        "num_of_peptides = len(np.transpose(modified_input))\n",
        "\n",
        "signal_factors = {}\n",
        "tmp_store_factors = []\n",
        "\n",
        "for i in range(0,num_of_peptides):\n",
        "  # print(np.transpose(modified_input)[i])\n",
        "  tmp_store_factors = []\n",
        "  for j in range(0,num_of_basis):\n",
        "    # print(basis3[j])\n",
        "    cur_signal = np.transpose(modified_input)[i]\n",
        "    cur_basis = basis3[j]\n",
        "    # print(cur_signal ,cur_basis )\n",
        "    tmp_store_factors.append(np.dot(cur_signal, cur_basis))\n",
        "  signal_factors[i] = tmp_store_factors\n",
        "\n",
        "input, np.transpose(modified_input), np.round(basis3), signal_factors\n",
        "\n"
      ],
      "execution_count": null,
      "outputs": [
        {
          "output_type": "execute_result",
          "data": {
            "text/plain": [
              "([[1, 2, 3, 4, 5, 6, 7, 8, 9, 10],\n",
              "  array([1, 2, 3, 4, 5, 0, 0, 0, 0, 0]),\n",
              "  array([1, 2, 3, 4, 5, 0, 0, 0, 0, 0]),\n",
              "  array([1, 2, 3, 0, 0, 0, 0, 0, 0, 0]),\n",
              "  array([1, 2, 3, 4, 5, 6, 7, 0, 0, 0])],\n",
              " array([[ 1,  2,  3,  4,  5,  6,  7,  8,  9, 10],\n",
              "        [ 1,  2,  3,  4,  5,  0,  0,  0,  0,  0],\n",
              "        [ 1,  2,  3,  0,  0,  0,  0,  0,  0,  0],\n",
              "        [ 1,  2,  3,  4,  5,  6,  7,  0,  0,  0]]),\n",
              " array([[-0., -0., -0., -0., -0., -0., -0., -0., -0., -1.],\n",
              "        [-0., -0., -0., -0., -1.,  0.,  0.,  0.,  0.,  0.],\n",
              "        [-0., -0., -1.,  0.,  0., -0., -0., -0., -0., -0.],\n",
              "        [ 0., -0., -0.,  0., -0.,  1.,  1., -0., -0., -0.]]),\n",
              " {0: [-19.621416870348586,\n",
              "   -6.106226635438361e-16,\n",
              "   -8.881784197001252e-16,\n",
              "   2.220446049250313e-16],\n",
              "  1: [-2.803059552906941,\n",
              "   -6.866065623255952,\n",
              "   -1.1102230246251565e-16,\n",
              "   -1.0672375712542041e-16],\n",
              "  2: [-0.7135060680126757,\n",
              "   -1.747725795010606,\n",
              "   -3.2305361221264244,\n",
              "   -4.7810609670327135e-17],\n",
              "  3: [-7.135060680126758,\n",
              "   -5.097533568780934,\n",
              "   -2.220446049250313e-16,\n",
              "   7.943932313788972]})"
            ]
          },
          "metadata": {
            "tags": []
          },
          "execution_count": 4
        }
      ]
    },
    {
      "cell_type": "code",
      "metadata": {
        "colab": {
          "base_uri": "https://localhost:8080/"
        },
        "id": "zkI2txv4D63M",
        "outputId": "e7973950-c212-402a-be3e-0211c7b56b19"
      },
      "source": [
        "# possible input format\n",
        "\n",
        "xy1 = [[1, 2], [3, 58], [4, 9],[7, 35]]\n",
        "xy2 = [[5, 22], [6, 158], [10, 19],[17, 135]]\n",
        "xy3 = [[11, 342], [13, 568], [14, 90],[17, 305]]\n",
        "\n",
        "inputxy = ([xy1,xy2,xy3])\n",
        "# newp = np.zeros(20)\n",
        "\n",
        "# # def formatinput():\n",
        "\n",
        "# for i in range(0, len(xy1)):\n",
        "#   # if i < len(p4):\n",
        "#   newp[xy1[i][0]] = xy1[i][1]\n",
        "\n",
        "# len(inputxy)\n",
        "\n",
        "output = []\n",
        "\n",
        "for i in range(0, len(inputxy)):\n",
        "  tmp = inputxy[i]\n",
        "  newp = np.zeros(20)\n",
        "  for j in range(0, len(tmp) ):\n",
        "    # if i < len(p4):\n",
        "    newp[tmp[j][0]] = tmp[j][1]\n",
        "\n",
        "  output.append(newp)\n",
        "\n",
        "output\n",
        "\n",
        "_, inds = sympy.Matrix(output).T.rref()\n",
        "output, _, inds"
      ],
      "execution_count": null,
      "outputs": [
        {
          "output_type": "execute_result",
          "data": {
            "text/plain": [
              "([array([ 0.,  2.,  0., 58.,  9.,  0.,  0., 35.,  0.,  0.,  0.,  0.,  0.,\n",
              "          0.,  0.,  0.,  0.,  0.,  0.,  0.]),\n",
              "  array([  0.,   0.,   0.,   0.,   0.,  22., 158.,   0.,   0.,   0.,  19.,\n",
              "           0.,   0.,   0.,   0.,   0.,   0., 135.,   0.,   0.]),\n",
              "  array([  0.,   0.,   0.,   0.,   0.,   0.,   0.,   0.,   0.,   0.,   0.,\n",
              "         342.,   0., 568.,  90.,   0.,   0., 305.,   0.,   0.])],\n",
              " Matrix([\n",
              " [  1,   0,   0],\n",
              " [0.0,   1,   0],\n",
              " [  0,   0,   1],\n",
              " [0.0, 0.0, 0.0],\n",
              " [  0,   0,   0],\n",
              " [  0,   0,   0],\n",
              " [  0,   0,   0],\n",
              " [  0,   0,   0],\n",
              " [0.0, 0.0, 0.0],\n",
              " [0.0, 0.0, 0.0],\n",
              " [  0,   0,   0],\n",
              " [  0,   0,   0],\n",
              " [0.0, 0.0, 0.0],\n",
              " [  0,   0,   0],\n",
              " [  0,   0,   0],\n",
              " [0.0, 0.0, 0.0],\n",
              " [0.0, 0.0, 0.0],\n",
              " [0.0, 0.0, 0.0],\n",
              " [0.0, 0.0, 0.0],\n",
              " [0.0, 0.0, 0.0]]),\n",
              " (0, 1, 2))"
            ]
          },
          "metadata": {
            "tags": []
          },
          "execution_count": 3
        }
      ]
    },
    {
      "cell_type": "markdown",
      "metadata": {
        "id": "gztC00ZF6qRX"
      },
      "source": [
        "# Approach 2 (With small portion of real data)\n"
      ]
    },
    {
      "cell_type": "markdown",
      "metadata": {
        "id": "u0R6cw-BK0Kn"
      },
      "source": [
        "#### Peptides"
      ]
    },
    {
      "cell_type": "code",
      "metadata": {
        "id": "RxiEAf2yRd96"
      },
      "source": [
        "#peptide samples only 10 for now\n",
        "peptides = {}\n",
        "\n",
        "#0\n",
        "peptides[\"APKIGFSGPK/2\"]  = [[129.1022,1285509],\n",
        "[147.1128,91627],\n",
        "[169.097,1124187],\n",
        "[226.1547,1495660],\n",
        "[244.1651,288493],\n",
        "[279.1827,148722],\n",
        "[297.1918,1045083],\n",
        "[301.1862,178956],\n",
        "[388.2188,199671],\n",
        "[392.2642,245394],\n",
        "[410.2758,1073893],\n",
        "[417.2471,3680657],\n",
        "[465.7735,6886946],\n",
        "[467.2992,110364],\n",
        "[535.2871,225439],\n",
        "[574.3021,26582],\n",
        "[592.3082,3353078],\n",
        "[614.363,88795],\n",
        "[687.3795,96941],\n",
        "[701.3976,36718],\n",
        "[705.3923,4106544],\n",
        "[740.4152,25478],\n",
        "[758.4194,160231],\n",
        "[815.4813,33698],\n",
        "[833.4874,2494322],\n",
        "[930.5396,291737]]\n",
        "\n",
        "#1\n",
        "peptides[\"AQNLEAISR/2\"] = [[175.1187,1394108],\n",
        "[182.0923,246261],\n",
        "[183.0764,12760439],\n",
        "[200.1029,30334056],\n",
        "[245.1238,437168],\n",
        "[262.1508,6199661],\n",
        "[297.1201,2258717],\n",
        "[314.1455,12047771],\n",
        "[344.7057,182335],\n",
        "[375.2345,4682900],\n",
        "[384.6985,444842],\n",
        "[401.7217,566085],\n",
        "[409.2193,280162],\n",
        "[410.2045,1104568],\n",
        "[427.2295,3173435],\n",
        "[446.2718,14664051],\n",
        "[448.7298,360401],\n",
        "[465.7533,2493070],\n",
        "[538.2597,431020],\n",
        "[539.2459,1835992],\n",
        "[556.2741,1121055],\n",
        "[557.3022,1362793],\n",
        "[575.3145,28194982],\n",
        "[610.2851,511419],\n",
        "[627.3035,727117],\n",
        "[670.3854,265669],\n",
        "[688.3984,15231507],\n",
        "[723.3677,275053],\n",
        "[784.433,739736],\n",
        "[785.4152,5124613],\n",
        "[802.4409,65364052],\n",
        "[913.4724,4827612]]\n",
        "\n",
        "#2\n",
        "peptides[\"AQQLEWVK/2\"] = [[129.1021,\t1157985],\n",
        "[130.0863,\t1236825],\n",
        "[147.1128,\t4394865],\n",
        "[183.0764,\t8073642],\n",
        "[200.1029,\t14785822],\n",
        "[246.1812,\t2107888],\n",
        "[311.1356,\t978651],\n",
        "[328.1614,\t3300523],\n",
        "[401.7254,\t811456],\n",
        "[424.2191,\t144806],\n",
        "[432.2598,\t4212431],\n",
        "[441.244\t,692477],\n",
        "[465.7576,\t1332947],\n",
        "[543.2914,\t565047],\n",
        "[561.3033,\t4602554],\n",
        "[570.2836,\t505291],\n",
        "[674.3879,\t9254963],\n",
        "[739.3427,\t128338],\n",
        "[756.3716,\t359650],\n",
        "[784.4348,\t3749250],\n",
        "[785.4227,\t7751332],\n",
        "[802.4456,\t27014034],\n",
        "[838.4088,\t199813],\n",
        "[855.4285,\t630150],\n",
        "[913.4774,\t4494342]]\n",
        "\n",
        "#3\n",
        "peptides[\"ASLVYHRR/2\"] = [[175.1193,95979],\n",
        "[254.1508,25344],\n",
        "[272.1613,16108],\n",
        "[316.1735,8731],\n",
        "[365.7063,16149],\n",
        "[371.2303,13519],\n",
        "[422.2485,17026],\n",
        "[465.7683,12177],\n",
        "[468.2809,9665],\n",
        "[614.3143,29251],\n",
        "[631.3409,14917],\n",
        "[713.3816,19061],\n",
        "[827.4481,47976]]\n",
        "\n",
        "#4\n",
        "peptides[\"ASVLLVMLR/2\"] = [[175.118,40740],\n",
        "[240.1341,253489],\n",
        "[258.1447,161344],\n",
        "[271.1776,11530],\n",
        "[288.202,37756],\n",
        "[353.2169,18720],\n",
        "[371.2297,97513],\n",
        "[372.743,13171],\n",
        "[419.2425,128635],\n",
        "[422.2789,18285],\n",
        "[466.3019,38387],\n",
        "[484.3131,32445],\n",
        "[501.2835,65424],\n",
        "[518.3116,424879],\n",
        "[631.3952,583843],\n",
        "[744.4797,446120],\n",
        "[843.5506,81838],\n",
        "[930.5768,23770]]\n",
        "\n",
        "#5\n",
        "peptides[\"ATELLTLLK/2\"] = [[129.1023,491633],\n",
        "[130.0863,772000],\n",
        "[147.1127,3071400],\n",
        "[155.0815,4523618],\n",
        "[173.092,11170167],\n",
        "[187.1449,55566],\n",
        "[242.1865,215146],\n",
        "[260.1966,2648436],\n",
        "[284.1237,6724752],\n",
        "[294.2087,634252],\n",
        "[302.1343,3467028],\n",
        "[350.7524,101317],\n",
        "[373.2808,2481405],\n",
        "[397.2069,628105],\n",
        "[397.2634,621668],\n",
        "[415.2175,1812217],\n",
        "[415.2708,206077],\n",
        "[447.786,131991],\n",
        "[456.3181,108737],\n",
        "[465.7961,3547553],\n",
        "[474.3284,8373267],\n",
        "[528.3046,500678],\n",
        "[569.399,378498],\n",
        "[587.4122,11790595],\n",
        "[611.3412,656578],\n",
        "[629.3525,222446],\n",
        "[682.4846,263328],\n",
        "[700.4962,16131034],\n",
        "[724.4243,872470],\n",
        "[742.4333,189242],\n",
        "[811.5275,2366093],\n",
        "[829.5386,26321716],\n",
        "[837.5045,354690],\n",
        "[838.4991,133178],\n",
        "[912.5784,517997],\n",
        "[930.5881,2242445]]\n",
        "\n",
        "#6\n",
        "peptides[\"ATVQQLEGR/2\"] = [[155.0817,1223354],\n",
        "[158.0922,45719],\n",
        "[173.0922,6203154],\n",
        "[175.1189,598050],\n",
        "[215.1137,98705],\n",
        "[232.1404,5924745],\n",
        "[237.6368,108337],\n",
        "[254.1499,9350733],\n",
        "[272.1603,749155],\n",
        "[301.6655,178001],\n",
        "[343.1717,311782],\n",
        "[344.1594,80111],\n",
        "[361.183,6181849],\n",
        "[365.6958,4737159],\n",
        "[382.2082,664194],\n",
        "[383.1933,264531],\n",
        "[398.2072,356693],\n",
        "[400.2191,1556556],\n",
        "[415.2299,7096909],\n",
        "[447.7406,46697],\n",
        "[456.2569,118382],\n",
        "[457.2415,1007298],\n",
        "[465.7539,1532933],\n",
        "[474.2672,8932651],\n",
        "[510.2685,480294],\n",
        "[511.2538,394022],\n",
        "[528.2773,966848],\n",
        "[584.3153,1122574],\n",
        "[585.301,1624769],\n",
        "[602.3257,16111406],\n",
        "[623.3522,313754],\n",
        "[641.3629,487791],\n",
        "[712.3748,995315],\n",
        "[713.3594,3762280],\n",
        "[730.3842,16743101],\n",
        "[752.3929,182108],\n",
        "[770.4115,183568],\n",
        "[809.4152,25685],\n",
        "[811.4445,60182],\n",
        "[812.4272,315423],\n",
        "[827.4206,30748],\n",
        "[829.4534,7379150],\n",
        "[912.4897,72445],\n",
        "[913.4778,58720],\n",
        "[930.5024,336864]]\n",
        "\n",
        "#7\n",
        "peptides[\"ATYACFLR/2\"] = [[155.0814,845446],\n",
        "[173.092,7785594],\n",
        "[175.1189,2767236],\n",
        "[271.1763,165978],\n",
        "[288.2029,1341244],\n",
        "[298.1546,1235834],\n",
        "[318.1444,6480190],\n",
        "[333.6746,426448],\n",
        "[336.1551,2021284],\n",
        "[389.1808,322814],\n",
        "[407.1918,1318040],\n",
        "[415.2047,9335276],\n",
        "[418.2434,200229],\n",
        "[435.271,4391800],\n",
        "[448.7054,564705],\n",
        "[465.7282,1700765],\n",
        "[549.2162,59226],\n",
        "[567.2224,64448],\n",
        "[577.2916,64608],\n",
        "[578.2734,335895],\n",
        "[595.3017,20178246],\n",
        "[649.3105,93610],\n",
        "[666.3387,26695994],\n",
        "[696.2811,169583],\n",
        "[812.3775,214980],\n",
        "[829.4019,27268916],\n",
        "[912.4372,302732],\n",
        "[930.4499,1133818]]\n",
        "\n",
        "#8\n",
        "peptides[\"AVAGQGELTR/2\"] = [[158.0927,14632],\n",
        "[171.1128,2492414],\n",
        "[175.1188,142206],\n",
        "[242.1499,538994],\n",
        "[276.1665,256101],\n",
        "[299.1714,173300],\n",
        "[352.1904,365685],\n",
        "[380.701,159864],\n",
        "[389.2506,333415],\n",
        "[410.2034,66088],\n",
        "[416.2195,927443],\n",
        "[427.2289,129839],\n",
        "[465.7534,201368],\n",
        "[467.2266,15502],\n",
        "[484.2545,38559],\n",
        "[500.286,11125],\n",
        "[518.2938,231915],\n",
        "[557.3021,28366],\n",
        "[575.3146,2116742],\n",
        "[595.2799,13510],\n",
        "[596.2723,16258],\n",
        "[613.2998,23551],\n",
        "[685.3648,32810],\n",
        "[686.3485,162315],\n",
        "[703.3731,589737],\n",
        "[709.3543,14668],\n",
        "[742.3817,18118],\n",
        "[743.3696,102587],\n",
        "[760.3947,2242718],\n",
        "[813.4199,45667],\n",
        "[831.432,4765188],\n",
        "[930.5045,26912]]\n",
        "\n",
        "#9\n",
        "peptides[\"AVLVDMEPK/2\"] = [[129.1024,382222],\n",
        "[130.0862,48003],\n",
        "[147.1128,214780],\n",
        "[171.1128,4863774],\n",
        "[187.1087,24694],\n",
        "[226.1549,237580],\n",
        "[244.1655,2338059],\n",
        "[284.1968,1820314],\n",
        "[355.1976,298629],\n",
        "[359.6753,61856],\n",
        "[373.2089,199789],\n",
        "[383.2682,177096],\n",
        "[416.2175,1108798],\n",
        "[465.7497,101586],\n",
        "[480.2805,26024],\n",
        "[498.2923,41424],\n",
        "[504.2486,1063627],\n",
        "[601.2713,46467],\n",
        "[602.2527,54280],\n",
        "[611.321,20609],\n",
        "[619.2756,4711527],\n",
        "[700.3345,26384],\n",
        "[718.3438,4763570],\n",
        "[758.3726,23690],\n",
        "[813.4235,73834],\n",
        "[831.4282,8211120],\n",
        "[930.4929,137452]]\n",
        "\n",
        "#10\n",
        "peptides[\"CIAAYLYK/2\"] = [[129.1023,166724],\n",
        "[130.0863,61319],\n",
        "[144.0106,26148],\n",
        "[147.1128,198078],\n",
        "[161.0377,43164],\n",
        "[256.1096,13392],\n",
        "[257.0946,76525],\n",
        "[274.1218,461159],\n",
        "[292.165,29255],\n",
        "[310.1757,285901],\n",
        "[328.1316,70336],\n",
        "[345.1582,196604],\n",
        "[364.7049,20972],\n",
        "[399.1679,40421],\n",
        "[416.1946,65231],\n",
        "[421.2476,21924],\n",
        "[423.2604,145347],\n",
        "[562.2291,16231],\n",
        "[579.2617,36056],\n",
        "[586.3235,248191],\n",
        "[657.3604,498981],\n",
        "[674.3316,30906],\n",
        "[675.3138,8798],\n",
        "[692.3421,29127],\n",
        "[728.3973,2196250],\n",
        "[841.4806,174788],\n",
        "[855.4075,24949]]\n",
        "\n",
        "#11\n",
        "peptides[\"CNDPNIIR/2\"] = [[144.0117,305686],\n",
        "[158.0923,57226],\n",
        "[161.0372,33958],\n",
        "[175.119,2616945],\n",
        "[257.0692,302615],\n",
        "[258.0539,2445800],\n",
        "[258.1689,50350],\n",
        "[271.1761,70771],\n",
        "[275.0807,3983378],\n",
        "[288.2029,4324413],\n",
        "[306.695,1662988],\n",
        "[364.2084,489368],\n",
        "[372.0969,812409],\n",
        "[373.0808,2925586],\n",
        "[390.1077,5512154],\n",
        "[401.2863,1064957],\n",
        "[470.1354,167792],\n",
        "[498.3044,213704],\n",
        "[515.3298,1595856],\n",
        "[584.1783,677178],\n",
        "[594.3759,54603],\n",
        "[595.3562,452619],\n",
        "[601.2032,237237],\n",
        "[612.3823,19253622],\n",
        "[696.2786,46860],\n",
        "[697.2589,797450],\n",
        "[709.3986,160771],\n",
        "[710.3859,230251],\n",
        "[714.2887,683721],\n",
        "[727.4096,7433910],\n",
        "[824.4288,630384],\n",
        "[827.3689,276142],\n",
        "[841.4526,2145102]]"
      ],
      "execution_count": null,
      "outputs": []
    },
    {
      "cell_type": "code",
      "metadata": {
        "colab": {
          "base_uri": "https://localhost:8080/"
        },
        "id": "vmxIiBkJUG3N",
        "outputId": "e8859210-8f9c-493a-8c52-9cb00b4e0fce"
      },
      "source": [
        "peptides.keys()\n",
        "len(peptides) , list(peptides.keys())[0]\n",
        "\n",
        "# np.round(peptides.get(list(peptides.keys())[0]))\n",
        "len(peptides.get(list(peptides.keys())[0]))\n",
        "len(peptides)\n",
        "\n",
        "list(peptides.keys()), list(peptides.keys())[9]\n",
        "\n"
      ],
      "execution_count": null,
      "outputs": [
        {
          "output_type": "execute_result",
          "data": {
            "text/plain": [
              "(['APKIGFSGPK/2',\n",
              "  'AQNLEAISR/2',\n",
              "  'AQQLEWVK/2',\n",
              "  'ASLVYHRR/2',\n",
              "  'ASVLLVMLR/2',\n",
              "  'ATELLTLLK/2',\n",
              "  'ATVQQLEGR/2',\n",
              "  'ATYACFLR/2',\n",
              "  'AVAGQGELTR/2',\n",
              "  'AVLVDMEPK/2',\n",
              "  'CIAAYLYK/2',\n",
              "  'CNDPNIIR/2'],\n",
              " 'AVLVDMEPK/2')"
            ]
          },
          "metadata": {
            "tags": []
          },
          "execution_count": 8
        }
      ]
    },
    {
      "cell_type": "markdown",
      "metadata": {
        "id": "vbz593PKLBBU"
      },
      "source": [
        "#### executions"
      ]
    },
    {
      "cell_type": "code",
      "metadata": {
        "id": "lrTmn17J65Vo"
      },
      "source": [
        "output = []\n",
        "list_of_peptides = list(peptides.keys())\n",
        "\n",
        "for i in list_of_peptides:\n",
        "  list_of_peaks = peptides.get(i)\n",
        "  newp = np.zeros(1000)\n",
        "  for j in range(0, len(list_of_peaks) ):\n",
        "    # if i < len(p4):\n",
        "    newp[round(list_of_peaks[j][0])] = list_of_peaks[j][1] # round bcs the m/z ratio are not integers\n",
        "\n",
        "  output.append(newp)\n",
        "\n",
        "modified_input =  np.column_stack((output)) # stack column wise all the equally sized peptides\n",
        "\n",
        "##### check point\n",
        "# len(output[0])\n",
        "# modified_input[0]\n",
        "# modified_input.shape\n",
        "# modified_input[:, 1] \n",
        "\n",
        "######---------- getting the orthogonomal vectors from the given peptides -----------######\n",
        "def gs(X):\n",
        "    Q, R = np.linalg.qr(X, mode='reduced')\n",
        "    return Q\n",
        "\n",
        "basis3 = np.transpose(gs(modified_input)) # numpy qr raw mode has a the output transposed\n",
        "\n",
        "######---------- getting the signal factors with all basis vectors for each peptide  -----------######\n",
        "num_of_basis = len(basis3)\n",
        "num_of_peptides = len(np.transpose(modified_input))\n",
        "\n",
        "signal_factors = {}\n",
        "tmp_store_factors = []\n",
        "\n",
        "for i in range(0,num_of_peptides):\n",
        "  # print(np.transpose(modified_input)[i])\n",
        "  tmp_store_factors = []\n",
        "  for j in range(0,num_of_basis):\n",
        "    # print(basis3[j])\n",
        "    cur_signal = np.transpose(modified_input)[i]\n",
        "    cur_basis = basis3[j]\n",
        "    # print(cur_signal ,cur_basis )\n",
        "    tmp_store_factors.append(np.dot(cur_signal, cur_basis))\n",
        "  signal_factors[i] = tmp_store_factors\n",
        "\n",
        "output, np.transpose(modified_input), np.round(basis3), signal_factors"
      ],
      "execution_count": null,
      "outputs": []
    },
    {
      "cell_type": "code",
      "metadata": {
        "colab": {
          "base_uri": "https://localhost:8080/"
        },
        "id": "CN7j0ugzUe9k",
        "outputId": "2f5eab69-9aac-4d51-9f84-0b9efcdc1d90"
      },
      "source": [
        "basis_vectors = basis3\n",
        "factors_of_known_peptides = signal_factors\n",
        "list_of_peptides = output\n",
        "\n",
        "hk=np.random.randint(10, size=(1000))\n",
        "nb=1000\n",
        "ts=10e-4\n",
        "n0=np.arange(0.001 ,0.1, 0.0001)\n",
        "\n",
        "r = simulation(list_of_peptides , basis_vectors, factors_of_known_peptides,  hk, nb, ts, 10000000 , 5) #10000000000\n",
        "# r[\"Generated bits\"] ,r [\"Noisy signal(y)\"], r[\"Resulting bits afer detection\"]\n",
        "r[\"Generated numbers\"], r[\"Simulated probablity error\"], r[\"Output numbers\"] "
      ],
      "execution_count": null,
      "outputs": [
        {
          "output_type": "execute_result",
          "data": {
            "text/plain": [
              "([1, 5, 7, 5, 9], 0.0, [1, 5, 7, 5, 9])"
            ]
          },
          "metadata": {
            "tags": []
          },
          "execution_count": 65
        }
      ]
    },
    {
      "cell_type": "code",
      "metadata": {
        "colab": {
          "base_uri": "https://localhost:8080/",
          "height": 295
        },
        "id": "SoHq1zs-CbKU",
        "outputId": "98b39274-037e-4148-945e-d3de753b9729"
      },
      "source": [
        "\n",
        "basis_vectors = basis3\n",
        "factors_of_known_peptides = signal_factors\n",
        "list_of_peptides = output\n",
        "\n",
        "hk = np.random.randint(10, size=(1000))\n",
        "nb=1000\n",
        "ts=10e-4\n",
        "n0=np.arange(0.001 ,10, 0.0001)\n",
        "# nt=5\n",
        "# n0=np.arange(0.001 ,0.2, 0.0001)\n",
        "\n",
        "result = call_simulation(list_of_peptides , basis_vectors, factors_of_known_peptides,  hk, nb, ts, n0, 100)\n",
        "# result1 = call_simulation(list_of_peptides , basis_vectors, factors_of_known_peptides,  hk, nb, ts, n0, 1000)\n",
        "# result1 = get_simul_prob_trial5(sx,sy,alpha, bita,hk,nb,ts,n0,50000)\n",
        "# result2 = get_simul_prob_trial5(sx,sy,alpha, bita,hk,nb,ts,n0,1000)\n",
        "\n",
        "# plt.plot(n0, result1[\"THEO\"], 'b', label = \"Thoe 1000 nt\")\n",
        "# plt.plot(n0, result1[\"SIMUL\"], 'r', label = \"Simul 1000 nt\")\n",
        "# plt.plot(n0, result2[\"THEO\"], 'g', label = \"Thoe 100 nt\")\n",
        "plt.plot(n0, result[\"SIMUL\"], 'y', label = \"Simul 100 nt\")\n",
        "# plt.plot(n0, get_data(s0, s1,s2,hk,nb,ts,n0,10000), 'g', label = \"nt=10000\")\n",
        "plt.title('Simul Prob Error Vs N0')\n",
        "plt.ylabel('Simul Prob Error')\n",
        "plt.xlabel('N0')\n",
        "plt.legend()\n",
        "plt.grid(True)"
      ],
      "execution_count": null,
      "outputs": [
        {
          "output_type": "display_data",
          "data": {
            "image/png": "[encoded data removed]",
            "text/plain": [
              "<Figure size 432x288 with 1 Axes>"
            ]
          },
          "metadata": {
            "tags": []
          }
        }
      ]
    },
    {
      "cell_type": "code",
      "metadata": {
        "colab": {
          "base_uri": "https://localhost:8080/",
          "height": 295
        },
        "id": "OC2uuhU1G4dR",
        "outputId": "34eabf77-c3c5-454b-b609-6e1faa0944ed"
      },
      "source": [
        "\n",
        "basis_vectors = basis3\n",
        "factors_of_known_peptides = signal_factors\n",
        "list_of_peptides = output\n",
        "\n",
        "hk = np.random.randint(10, size=(1000))\n",
        "nb=1000\n",
        "ts=10e-4\n",
        "n0=np.arange(1000 ,10000000000, 10000000)\n",
        "# nt=5\n",
        "# n0=np.arange(0.001 ,0.2, 0.0001)\n",
        "\n",
        "result = call_simulation(list_of_peptides , basis_vectors, factors_of_known_peptides,  hk, nb, ts, n0, 100)\n",
        "# result1 = call_simulation(list_of_peptides , basis_vectors, factors_of_known_peptides,  hk, nb, ts, n0, 1000)\n",
        "# result1 = get_simul_prob_trial5(sx,sy,alpha, bita,hk,nb,ts,n0,50000)\n",
        "# result2 = get_simul_prob_trial5(sx,sy,alpha, bita,hk,nb,ts,n0,1000)\n",
        "\n",
        "# plt.plot(n0, result1[\"THEO\"], 'b', label = \"Thoe 1000 nt\")\n",
        "# plt.plot(n0, result1[\"SIMUL\"], 'r', label = \"Simul 1000 nt\")\n",
        "# plt.plot(n0, result2[\"THEO\"], 'g', label = \"Thoe 100 nt\")\n",
        "plt.plot(n0, result[\"SIMUL\"], 'y', label = \"Simul 100 nt\")\n",
        "# plt.plot(n0, get_data(s0, s1,s2,hk,nb,ts,n0,10000), 'g', label = \"nt=10000\")\n",
        "plt.title('Simul Prob Error Vs N0')\n",
        "plt.ylabel('Simul Prob Error')\n",
        "plt.xlabel('N0')\n",
        "plt.legend()\n",
        "plt.grid(True)"
      ],
      "execution_count": null,
      "outputs": [
        {
          "output_type": "display_data",
          "data": {
            "image/png": "[encoded data removed]",
            "text/plain": [
              "<Figure size 432x288 with 1 Axes>"
            ]
          },
          "metadata": {
            "tags": []
          }
        }
      ]
    },
    {
      "cell_type": "code",
      "metadata": {
        "colab": {
          "base_uri": "https://localhost:8080/"
        },
        "id": "z9_N9opKHHTY",
        "outputId": "ba03609b-df90-47fc-9407-662f47f756a7"
      },
      "source": [
        "len(np.arange(1 ,10000, 10))"
      ],
      "execution_count": null,
      "outputs": [
        {
          "output_type": "execute_result",
          "data": {
            "text/plain": [
              "1000"
            ]
          },
          "metadata": {
            "tags": []
          },
          "execution_count": 83
        }
      ]
    },
    {
      "cell_type": "code",
      "metadata": {
        "colab": {
          "base_uri": "https://localhost:8080/",
          "height": 295
        },
        "id": "kfG1uy1eNftv",
        "outputId": "2188eda5-9cb9-4e49-b7e7-54333601d600"
      },
      "source": [
        "\n",
        "basis_vectors = basis3\n",
        "factors_of_known_peptides = signal_factors\n",
        "list_of_peptides = output\n",
        "\n",
        "hk = np.random.randint(10, size=(1000))\n",
        "nb=1000\n",
        "ts=10e-4\n",
        "n0=np.arange(1 ,10000000000, 1000000)\n",
        "# nt=5\n",
        "# n0=np.arange(0.001 ,0.2, 0.0001)\n",
        "\n",
        "result = call_simulation(list_of_peptides , basis_vectors, factors_of_known_peptides,  hk, nb, ts, n0, 100)\n",
        "# result1 = call_simulation(list_of_peptides , basis_vectors, factors_of_known_peptides,  hk, nb, ts, n0, 1000)\n",
        "# result1 = get_simul_prob_trial5(sx,sy,alpha, bita,hk,nb,ts,n0,50000)\n",
        "# result2 = get_simul_prob_trial5(sx,sy,alpha, bita,hk,nb,ts,n0,1000)\n",
        "\n",
        "# plt.plot(n0, result1[\"THEO\"], 'b', label = \"Thoe 1000 nt\")\n",
        "# plt.plot(n0, result1[\"SIMUL\"], 'r', label = \"Simul 1000 nt\")\n",
        "# plt.plot(n0, result2[\"THEO\"], 'g', label = \"Thoe 100 nt\")\n",
        "plt.semilogy(n0, result[\"SIMUL\"], 'y', label = \"Simul 100 nt\")\n",
        "# plt.plot(n0, get_data(s0, s1,s2,hk,nb,ts,n0,10000), 'g', label = \"nt=10000\")\n",
        "plt.title('Simul Prob Error Vs N0')\n",
        "plt.ylabel('Simul Prob Error')\n",
        "plt.xlabel('N0')\n",
        "plt.legend()\n",
        "plt.grid(True)"
      ],
      "execution_count": null,
      "outputs": [
        {
          "output_type": "display_data",
          "data": {
            "image/png": "[encoded data removed]",
            "text/plain": [
              "<Figure size 432x288 with 1 Axes>"
            ]
          },
          "metadata": {
            "tags": []
          }
        }
      ]
    },
    {
      "cell_type": "code",
      "metadata": {
        "colab": {
          "background_save": true
        },
        "id": "wdb9PqXYYVJ7",
        "outputId": "c4ba5328-8ddb-4464-8ab9-c8ca0bf815e5"
      },
      "source": [
        "basis_vectors = basis3\n",
        "factors_of_known_peptides = signal_factors\n",
        "list_of_peptides = output\n",
        "\n",
        "hk = np.random.randint(10, size=(1000))\n",
        "nb=1000\n",
        "ts=10e-4\n",
        "n0=np.arange(1 ,1000000, 10)\n",
        "# nt=5\n",
        "# n0=np.arange(0.001 ,0.2, 0.0001)\n",
        "\n",
        "result = call_simulation(list_of_peptides , basis_vectors, factors_of_known_peptides,  hk, nb, ts, n0, 100)\n",
        "# result1 = call_simulation(list_of_peptides , basis_vectors, factors_of_known_peptides,  hk, nb, ts, n0, 1000)\n",
        "# result1 = get_simul_prob_trial5(sx,sy,alpha, bita,hk,nb,ts,n0,50000)\n",
        "# result2 = get_simul_prob_trial5(sx,sy,alpha, bita,hk,nb,ts,n0,1000)\n",
        "\n",
        "# plt.plot(n0, result1[\"THEO\"], 'b', label = \"Thoe 1000 nt\")\n",
        "# plt.plot(n0, result1[\"SIMUL\"], 'r', label = \"Simul 1000 nt\")\n",
        "# plt.plot(n0, result2[\"THEO\"], 'g', label = \"Thoe 100 nt\")\n",
        "plt.semilogy(n0, result[\"SIMUL\"], 'y', label = \"Simul 100 nt\")\n",
        "# plt.plot(n0, get_data(s0, s1,s2,hk,nb,ts,n0,10000), 'g', label = \"nt=10000\")\n",
        "plt.title('Simul Prob Error Vs N0')\n",
        "plt.ylabel('Simul Prob Error')\n",
        "plt.xlabel('N0')\n",
        "plt.legend()\n",
        "plt.grid(True)"
      ],
      "execution_count": null,
      "outputs": [
        {
          "output_type": "stream",
          "text": [
            "/usr/local/lib/python3.7/dist-packages/google/colab/_event_manager.py:28: UserWarning: Data has no positive values, and therefore cannot be log-scaled.\n",
            "  func(*args, **kwargs)\n"
          ],
          "name": "stderr"
        },
        {
          "output_type": "display_data",
          "data": {
            "image/png": "[encoded data removed]",
            "text/plain": [
              "<Figure size 432x288 with 1 Axes>"
            ]
          },
          "metadata": {
            "tags": []
          }
        }
      ]
    }
  ]
}